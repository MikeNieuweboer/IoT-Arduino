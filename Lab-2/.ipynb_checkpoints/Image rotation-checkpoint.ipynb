{
 "cells": [
  {
   "cell_type": "markdown",
   "metadata": {},
   "source": [
    "## LabExercise: Image Rotation\n",
    "\n",
    "**Step by Step Development**\n",
    "\n",
    "```\n",
    "When developing programs that involve some math I am unsure about I proceed as follows:\n",
    "\n",
    "Make a minimalistic program that takes you from start to finish without doing the ‘real’ thing: in this case I would start with a program that uses the framework just to copy the image from the camera and display it in the lower canvas.\n",
    "\n",
    "That first step doesn’t require me to manipulate individual pixel values. So instead of just copying i would then do something simple as ‘inverting’ all pixel values (new value = 255 - old value) while making the copy.\n",
    "\n",
    "Only when that works start on the real thing: the rotation.\n",
    "Write a method (function) to do so using the simple form of interpolation: nearest neighbor interpolation.\n",
    "\n",
    "And the last step requires implementing the bilinear interpolation.\n",
    "\n",
    "The added advantage of such an approach is that some modular design is built into the development process.\n",
    "In this way I am forced not to spread around functionality over all my code that should really be concentrated in one function or class (like for the interpolation).\n",
    "\n",
    "And of course: every step should be tested before proceeding to the next step.\n",
    "```\n",
    "***The assignment***\n",
    "\n",
    "The program you have to make is simple. Start with the notebook again. In the top part the live video stream is shown.\n",
    "\n",
    "You should make a new image of the same size as the frame from from the camera stream. Its contents should be the camera image rotated around the center over ϕ degrees.\n",
    "\n",
    "So if this is your input image: <img src=\"files/cameraman.png\" style=\"width: 300px \">\n",
    "\n",
    "then this should be the rotated version: <img src=\"files/cameramanrotated.png\" style=\"width: 300px \">\n",
    "\n",
    "(you don’t need to display the coordinate values alongside the image...)\n",
    "\n",
    "Note: you really have to rotate the image pixel by pixel yourself! Use nearest neigbor interpolation to start with and only when that is working you have to add bilinear interpolation.\n",
    "\n",
    "The image rotation angle should be user-selectable using a control.\n",
    "\n",
    "###### © Copyright 2013, 2014, Rein van den Boomgaard & 2015, 2016, 2017, 2018 moderated by Anthony 'Toto' van Inge & 2019 moderated by Edwin Steffens.  Last updated on May 8, 2019. ######"
   ]
  },
  {
   "cell_type": "code",
   "execution_count": null,
   "metadata": {},
   "outputs": [],
   "source": []
  }
 ],
 "metadata": {
  "kernelspec": {
   "display_name": "Python 3 (ipykernel)",
   "language": "python",
   "name": "python3"
  },
  "language_info": {
   "codemirror_mode": {
    "name": "ipython",
    "version": 3
   },
   "file_extension": ".py",
   "mimetype": "text/x-python",
   "name": "python",
   "nbconvert_exporter": "python",
   "pygments_lexer": "ipython3",
   "version": "3.10.6"
  }
 },
 "nbformat": 4,
 "nbformat_minor": 2
}
